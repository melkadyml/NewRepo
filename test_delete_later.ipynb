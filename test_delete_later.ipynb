{
  "nbformat": 4,
  "nbformat_minor": 0,
  "metadata": {
    "colab": {
      "name": "test_delete_later.ipynb",
      "provenance": [],
      "authorship_tag": "ABX9TyPc9nd2tSn82vTEz/KVzjty",
      "include_colab_link": true
    },
    "kernelspec": {
      "name": "python3",
      "display_name": "Python 3"
    },
    "language_info": {
      "name": "python"
    }
  },
  "cells": [
    {
      "cell_type": "markdown",
      "metadata": {
        "id": "view-in-github",
        "colab_type": "text"
      },
      "source": [
        "<a href=\"https://colab.research.google.com/github/melkadyml/NewRepo/blob/main/test_delete_later.ipynb\" target=\"_parent\"><img src=\"https://colab.research.google.com/assets/colab-badge.svg\" alt=\"Open In Colab\"/></a>"
      ]
    },
    {
      "cell_type": "code",
      "metadata": {
        "colab": {
          "base_uri": "https://localhost:8080/"
        },
        "id": "1_CelBVZU-sU",
        "outputId": "4b7c1238-9f5a-499e-ee88-090c7c221579"
      },
      "source": [
        "#just testing\n",
        "print(\"Hello cruel world!\")"
      ],
      "execution_count": null,
      "outputs": [
        {
          "output_type": "stream",
          "text": [
            "Hello cruel world!\n"
          ],
          "name": "stdout"
        }
      ]
    }
  ]
}